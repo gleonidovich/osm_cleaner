{
 "cells": [
  {
   "cell_type": "markdown",
   "metadata": {},
   "source": [
    "# Project 3: Data Wrangling with MongoDB\n",
    "\n",
    "* [Map Coordinates Link](https://www.openstreetmap.org/relation/162069)\n",
    "* [Map Overpass Download Link (Auto-Download)](http://overpass-api.de/api/map?bbox=-77.3637,38.7337,-76.6660,39.0533)"
   ]
  },
  {
   "cell_type": "markdown",
   "metadata": {},
   "source": [
    "## 0. Contents\n",
    "1. [Problems Found in Map Data](#Problems)\n",
    "2. [Data Overview](#Overview)\n",
    "3. [Other Observations](#Observations)"
   ]
  },
  {
   "cell_type": "markdown",
   "metadata": {},
   "source": [
    "<a id='Problems'></a>"
   ]
  },
  {
   "cell_type": "markdown",
   "metadata": {},
   "source": [
    "## 1. Problems Found in Map Data\n",
    "\n",
    "After running an initial audit of the data, some systematic issues were found in the DC data.\n",
    "\n",
    "* Abbreviated / directional street suffix\n",
    "* Nodes with \"type\" attribute overwriting node type\n",
    "* some \"name\" elements contain street name\n",
    "\n",
    "### Abbreviated / directional street types\n",
    "\n",
    "Any abbreviated street types were fixed during the conversion to a JSON format. Washington DC streets commonly use include a cardinal direction at the end. In order to maintain *name-street_type-direction* format, I had to modify my function for updating street names.\n",
    "\n",
    "### Nodes with \"type\" attribute overwriting node type\n",
    "\n",
    "Several data nodes were already using an attribute called \"type\". After running a query on type, I could see that this attribute was commonly used to describe an area. \n",
    "\n",
    "```\n",
    "db.sample.aggregate([{$match: {type: {$exists: true}}}, {$group: {_id: '$type', count: {$sum: 1}}}])\n",
    "\n",
    "{ \"_id\" : \"node\", \"count\" : 26425 }\n",
    "{ \"_id\" : \"national\", \"count\" : 1 }\n",
    "{ \"_id\" : \"statue\", \"count\" : 2 }\n",
    "{ \"_id\" : \"newspaper\", \"count\" : 1 }\n",
    "{ \"_id\" : \"way\", \"count\" : 2948 }\n",
    "{ \"_id\" : \"Coffee Shop\", \"count\" : 1 }\n",
    "```\n",
    "\n",
    "I renamed these elements to \"place_type\" to make sure that \"type\" can only be a *way* or a *node*.\n",
    "\n",
    "### Some \"name\" elements contain street name\n",
    "\n",
    "The name attribute has been used to name some ways. \n",
    "\n",
    "```\n",
    "db.washdc.aggregate( [ { \"$match\": { \"name\": { \"$exists\": 1 } } },\n",
    "                               { \"$match\": { \"type\": \"way\" } },\n",
    "                               { \"$group\": { \"_id\": \"$name_type\", \"count\": { \"$sum\": 1 } } },\n",
    "                               { \"$sort\": {\"count\": -1}},\n",
    "                               { \"$limit\": 5 }] )\n",
    "                           \n",
    "{'count': 22239, '_id': None}\n",
    "{'count': 7490, '_id': 'St'}\n",
    "{'count': 5376, '_id': 'Dr'}\n",
    "{'count': 5270, '_id': 'Ct'}\n",
    "{'count': 4923, '_id': 'Rd'}\n",
    "```\n",
    "\n",
    "In these cases, \"name_type\" is used for the street name suffix used for the \"name\".\n",
    "This issue creates inconsistency in the use for the \"name\" key, but it is not explicitly wrong to use \"name\" by OSM standards. I did not modify these documents because they are not wrong."
   ]
  },
  {
   "cell_type": "markdown",
   "metadata": {},
   "source": [
    "<a id='Overview'></a>"
   ]
  },
  {
   "cell_type": "markdown",
   "metadata": {},
   "source": [
    "## 2. Data Overview\n",
    "\n",
    "#### Basic data\n",
    "```\n",
    "washdc.osm | 758 MB  \n",
    "washdc.osm.json | 828 MB\n",
    "```\n",
    "\n",
    "#### Number of documents\n",
    "```\n",
    "> db.washdc.find().count()\n",
    "3821100\n",
    "```\n",
    "\n",
    "#### Number of unique users\n",
    "```\n",
    "> len(db.washdc.distinct( \"created.user\" ))\n",
    "2300\n",
    "```\n",
    "#### Number of nodes\n",
    "```\n",
    "> db.washdc.find({\"type\": \"node\"}).count()\n",
    "3430696\n",
    "```\n",
    "#### Number of ways\n",
    "```\n",
    "> db.washdc.find({ \"type\": \"way\"}).count()\n",
    "390404\n",
    "```\n",
    "\n",
    "#### Number of amenities\n",
    "```\n",
    "> db.washdc.find({\"amenity\": {\"$exists\": \"true\"}}).count()\n",
    "24193\n",
    "```\n",
    "\n",
    "#### Five most frequent amenities\n",
    "```\n",
    "> db.washdc.aggregate([{\"$match\": {\"amenity\": {\"$exists\": \"true\"}}},\n",
    "                                  {\"$group\": {\"_id\": \"$amenity\", \"count\": {\"$sum\": 1}}},\n",
    "                                  {\"$sort\": {\"count\": -1}},\n",
    "                                  {\"$limit\": 5}])\n",
    "{'_id': 'parking', 'count': 10695}\n",
    "{'_id': 'restaurant', 'count': 1985}\n",
    "{'_id': 'school', 'count': 1883}\n",
    "{'_id': 'place_of_worship', 'count': 1706}\n",
    "{'_id': 'fast_food', 'count': 805}\n",
    "```                                 "
   ]
  },
  {
   "cell_type": "markdown",
   "metadata": {},
   "source": [
    "<a id='Observations'></a>"
   ]
  },
  {
   "cell_type": "markdown",
   "metadata": {},
   "source": [
    "## 3. Other Observations\n",
    "\n",
    "OpenStreetMaps has a community driven, weak standards system for naming physical features of locations and ways. These are only suggestions that leave room for creating new conventions or classifying niche locations. This is a feature and a drawback to OSM. If a limited standard on common keys was enforced, issues with common keys, such as \"type\" or \"name\", would be less likely to happen and easier to fix.\n",
    "\n",
    "For example: (\"type\" edited to \"place_type\" explained in section 1)\n",
    "```\n",
    "db.washdc.aggregate([{\"$match\": {\"place_type\": {\"$exists\": 1}}},\n",
    "                                {\"$group\": {\"_id\": \"$place_type\", \"count\": {\"$sum\": 1}}},\n",
    "                                {\"$sort\": {\"count\": -1}},\n",
    "                                {\"$limit\": 5}])\n",
    "{'_id': 'pillar', 'count': 296}\n",
    "{'_id': 'communication', 'count': 140}\n",
    "{'_id': 'ADDRESS', 'count': 112}\n",
    "{'_id': 'address', 'count': 62}\n",
    "{'_id': 'apartment', 'count': 30}\n",
    "```\n",
    "\n",
    "174 nodes had a key:value pair of \"type\":\"address\". That is a very small percentage of all nodes in the dataset, but inconsistencies create noise in the dataset. In this particular example, \"pillar\" and \"apartment\" are descriptions that are lost for 336 nodes. Fixing these issues would be very time consuming and still be open to subjective ideas about the best characterization terms."
   ]
  }
 ],
 "metadata": {
  "kernelspec": {
   "display_name": "Python 3",
   "language": "python",
   "name": "python3"
  },
  "language_info": {
   "codemirror_mode": {
    "name": "ipython",
    "version": 3
   },
   "file_extension": ".py",
   "mimetype": "text/x-python",
   "name": "python",
   "nbconvert_exporter": "python",
   "pygments_lexer": "ipython3",
   "version": "3.5.1"
  }
 },
 "nbformat": 4,
 "nbformat_minor": 0
}
