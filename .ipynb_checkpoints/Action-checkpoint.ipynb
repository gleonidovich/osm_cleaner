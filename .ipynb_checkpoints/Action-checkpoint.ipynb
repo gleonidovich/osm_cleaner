{
 "cells": [
  {
   "cell_type": "code",
   "execution_count": 1,
   "metadata": {
    "collapsed": true
   },
   "outputs": [],
   "source": [
    "import xml.etree.cElementTree as ET\n",
    "import pprint\n",
    "from collections import defaultdict\n",
    "import re\n",
    "import codecs\n",
    "import json"
   ]
  },
  {
   "cell_type": "code",
   "execution_count": 2,
   "metadata": {
    "collapsed": false
   },
   "outputs": [],
   "source": [
    "OSMFILE = 'map.osm'"
   ]
  },
  {
   "cell_type": "code",
   "execution_count": 3,
   "metadata": {
    "collapsed": true
   },
   "outputs": [],
   "source": [
    "street_type_re = re.compile(r'\\b\\S+\\.?$', re.IGNORECASE)\n",
    "\n",
    "expected = [\"Alley\",\"Avenue\", \"Bend\", \"Bottom\", \"Boulevard\", \"Bridge\", \n",
    "            \"Bypass\", \"Cape\", \"Causeway\", \"Center\", \"Circle\", \"Common\", \n",
    "            \"Corner\",  \"Court\", \"Crossing\", \"Crossroad\", \"Curve\", \"Drive\", \n",
    "            \"Expressway\", \"Flat\", \"Fort\", \"Freeway\", \"Garden\", \"Gateway\",  \n",
    "            \"Harbor\", \"Heights\", \"Highway\", \"Hill\", \"Hills\", \"Junction\", \n",
    "            \"Landing\", \"Lane\", \"Loop\", \"Mall\", \"Manor\", \"Motorway\", \"Overlook\", \n",
    "            \"Overpass\", \"Park\", \"Parkway\", \"Passage\", \"Pike\", \"Place\", \"Plaza\", \n",
    "            \"Point\", \"Port\", \"Ridge\", \"Road\", \"Route\", \"Row\", \"Run\", \"Spring\", \n",
    "            \"Springs\", \"Square\", \"Station\", \"Street\", \"Terrace\", \"Throughway\", \n",
    "            \"Trail\", \"Tunnel\", \"Turnpike\", \"Union\", \"View\", \"Way\"]\n",
    "\n",
    "direction = [\"North\", \"South\", \"East\", \"West\", \"Northeast\", \"Northwest\", \n",
    "             \"Southeast\", \"Southwest\"]\n",
    "\n",
    "mapping = { \"ave\": \"Avenue\",\n",
    "            \"avenue\": \"Avenue\",\n",
    "            \"Ave\": \"Avenue\",\n",
    "            \"Ave.\": \"Avenue\",\n",
    "            \"Blvd\": \"Boulevard\",\n",
    "            \"Ct\": \"Court\",\n",
    "            \"Ct.\": \"Court\",\n",
    "            \"drive\": \"Drive\",\n",
    "            \"Dr\": \"Drive\",\n",
    "            \"Dr.\": \"Drive\",\n",
    "            \"Hwy\": \"Highway\",\n",
    "            \"Hwy.\": \"Highway\",\n",
    "            \"Ln\": \"Lane\",\n",
    "            \"Ln.\": \"Lane\",\n",
    "            \"pike\": \"Pike\",\n",
    "            \"Pkwy\": \"Parkway\",\n",
    "            \"Pky\": \"Parkway\",\n",
    "            \"Plz\": \"Plaza\",\n",
    "            \"rd\": \"Road\",\n",
    "            \"road\": \"Road\",\n",
    "            \"Rd\": \"Road\",\n",
    "            \"Rd.\": \"Road\",\n",
    "            \"st\": \"Street\",\n",
    "            \"St\": \"Street\",\n",
    "            \"St.\": \"Street\" }"
   ]
  },
  {
   "cell_type": "code",
   "execution_count": 4,
   "metadata": {
    "collapsed": false
   },
   "outputs": [],
   "source": [
    "def audit_street_type(street_types, street_name):\n",
    "    m = street_type_re.search(street_name)\n",
    "    if m:\n",
    "        street_type = m.group()\n",
    "        if ((street_type not in expected) and (street_type not in direction)):\n",
    "            street_types[street_type].add(street_name)\n",
    "\n",
    "def is_street_name(elem):\n",
    "    return (elem.attrib['k'] == \"addr:street\")\n",
    "\n",
    "def audit(osmfile):\n",
    "    osm_file = open(osmfile, encoding=\"utf8\", mode=\"r\")\n",
    "    street_types = defaultdict(set)\n",
    "    for event, elem in ET.iterparse(osm_file, events=(\"start\",)):\n",
    "        if elem.tag == \"node\" or elem.tag == \"way\":\n",
    "            for tag in elem.iter(\"tag\"):\n",
    "                if is_street_name(tag):\n",
    "                    audit_street_type(street_types, tag.attrib['v'])\n",
    "    osm_file.close()\n",
    "    return street_types"
   ]
  },
  {
   "cell_type": "code",
   "execution_count": 5,
   "metadata": {
    "collapsed": false
   },
   "outputs": [],
   "source": [
    "def update_name(name, mapping):\n",
    "    for i in direction:\n",
    "        if i in name:\n",
    "            return name\n",
    "    for i in mapping:\n",
    "        if i in name:\n",
    "            name = name.replace(i, mapping[i])\n",
    "            return name"
   ]
  },
  {
   "cell_type": "code",
   "execution_count": 6,
   "metadata": {
    "collapsed": true
   },
   "outputs": [],
   "source": [
    "lower = re.compile(r'^([a-z]|_)*$')\n",
    "lower_colon = re.compile(r'^([a-z]|_)*:([a-z]|_)*$')\n",
    "problemchars = re.compile(r'[=\\+/&<>;\\'\"\\?%#$@\\,\\. \\t\\r\\n]')\n",
    "\n",
    "CREATED = [ \"version\", \"changeset\", \"timestamp\", \"user\", \"uid\"]"
   ]
  },
  {
   "cell_type": "code",
   "execution_count": 7,
   "metadata": {
    "collapsed": true
   },
   "outputs": [],
   "source": [
    "def shape_element(element):\n",
    "    node = {}\n",
    "    if element.tag == \"node\" or element.tag == \"way\" :\n",
    "        \n",
    "        node['type'] = element.tag\n",
    "        created = {}\n",
    "        pos = {}\n",
    "        for i in element.attrib.keys():\n",
    "            if i in CREATED:\n",
    "                created[i] = element.get(i)\n",
    "            elif (i == 'lat' or i == 'lon'):\n",
    "                pos[i] = float(element.get(i))\n",
    "            else:\n",
    "                node[i] = element.get(i)\n",
    "        \n",
    "        node['created'] = created\n",
    "        if len(pos) > 0:\n",
    "            node['pos'] = [pos['lat'], pos['lon']]\n",
    "\n",
    "        nds = []\n",
    "        for n in element.findall('nd'):\n",
    "            nds.append(n.get('ref'))\n",
    "        if len(nds) > 0:\n",
    "            node['node_refs'] = nds\n",
    "        \n",
    "        address = {}\n",
    "        for t in element.findall('tag'):\n",
    "            if re.search(problemchars, t.get('k')):\n",
    "                pass\n",
    "            elif re.search(r'\\w+:\\w+:\\w+', t.get('k')):\n",
    "                pass\n",
    "            elif 'addr' in t.get('k'):\n",
    "                address[t.get('k')[5:]] = t.get('v')\n",
    "            else:\n",
    "                if re.search(r'\\w+:\\w+', t.get('k')):\n",
    "                    name = re.search(r':\\w+', t.get('k'))\n",
    "                    node[name.group(0)[1:]] = t.get('v')\n",
    "                else:\n",
    "                    node[t.get('k')] = t.get('v')\n",
    "        \n",
    "        if len(address) > 0:\n",
    "            node['address'] = address\n",
    "\n",
    "        return node\n",
    "    else:\n",
    "        return None"
   ]
  },
  {
   "cell_type": "code",
   "execution_count": 8,
   "metadata": {
    "collapsed": true
   },
   "outputs": [],
   "source": [
    "def process_map(file_in, pretty = False):\n",
    "    # You do not need to change this file\n",
    "    file_out = \"{0}.json\".format(file_in)\n",
    "    data = []\n",
    "    with codecs.open(file_out, \"w\") as fo:\n",
    "        for _, element in ET.iterparse(file_in):\n",
    "            el = shape_element(element)\n",
    "            if el:\n",
    "                data.append(el)\n",
    "                if pretty:\n",
    "                    fo.write(json.dumps(el, indent=2)+\"\\n\")\n",
    "                else:\n",
    "                    fo.write(json.dumps(el) + \"\\n\")\n",
    "    return data"
   ]
  },
  {
   "cell_type": "code",
   "execution_count": 9,
   "metadata": {
    "collapsed": false
   },
   "outputs": [],
   "source": [
    "def avoid_direction(result):\n",
    "    for each in ['NW', 'NE', 'SW', 'SE']:\n",
    "        if each in result:\n",
    "            print(result[each])\n",
    "    return"
   ]
  },
  {
   "cell_type": "code",
   "execution_count": 10,
   "metadata": {
    "collapsed": false
   },
   "outputs": [],
   "source": [
    "audited = audit(OSMFILE)"
   ]
  },
  {
   "cell_type": "code",
   "execution_count": 11,
   "metadata": {
    "collapsed": false
   },
   "outputs": [
    {
     "name": "stdout",
     "output_type": "stream",
     "text": [
      "{'14th Street NW', 'Connecticut Avenue NW'}\n",
      "{'14th Street SW', 'Raoul Wallenberg Place SW'}\n"
     ]
    }
   ],
   "source": [
    "avoid_direction(audited)"
   ]
  },
  {
   "cell_type": "code",
   "execution_count": 12,
   "metadata": {
    "collapsed": false
   },
   "outputs": [
    {
     "name": "stdout",
     "output_type": "stream",
     "text": [
      "defaultdict(<class 'set'>, {'NW': {'14th Street NW', 'Connecticut Avenue NW'}, 'SW': {'14th Street SW', 'Raoul Wallenberg Place SW'}})\n"
     ]
    }
   ],
   "source": [
    "print(audited)"
   ]
  },
  {
   "cell_type": "code",
   "execution_count": null,
   "metadata": {
    "collapsed": true
   },
   "outputs": [],
   "source": []
  }
 ],
 "metadata": {
  "kernelspec": {
   "display_name": "Python 3",
   "language": "python",
   "name": "python3"
  },
  "language_info": {
   "codemirror_mode": {
    "name": "ipython",
    "version": 3
   },
   "file_extension": ".py",
   "mimetype": "text/x-python",
   "name": "python",
   "nbconvert_exporter": "python",
   "pygments_lexer": "ipython3",
   "version": "3.5.1"
  }
 },
 "nbformat": 4,
 "nbformat_minor": 0
}
